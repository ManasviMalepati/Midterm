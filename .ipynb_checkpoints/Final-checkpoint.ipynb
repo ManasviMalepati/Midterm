{
 "cells": [
  {
   "cell_type": "markdown",
   "metadata": {},
   "source": [
    "## Midterm - Mental Health Systems\n",
    "### Manasvi Malepati\n",
    "\n",
    "The Problem:\n",
    "\n",
    "The problem I am exploring is related to the mental illness recovery system in the U.S. and its successfulness in its purpose. When those who are struggling with mental illnesses need serious and urgent care, they are typically hospitalized in and after being dicharged, the same people can sometimes get readmitted for the same reasons as before. One way that mental health programs on a state-wide or national level measure their efficacy is by looking at those readmission rates and seeing whether their program had brought those rates down. This is because if the patient had not been readmitted for the effects of their mental illness then the treatment they were seeking, a treatment that may have been provided by the program, may have been helping them recover. \n",
    "\n",
    "Why Does This Matter?\n",
    "\n",
    "Mental illness is a tough issue to tackle with the most serious of consequences. According to the National Alliance of Mental Illness, around 12.5% of visits to emergency department are related to mental illness and suicide is one of the top ten causes of death in the U.S. It is important to make our recovery systems robust and ready for those who are the most at risk, because they are people who deserve to have a safe and healthy life. \n",
    "\n",
    "It is always important to assess the effectiveness of a program designed to change behavior, especially when it concerns a person's life. Mental health services are given the complex task of helping those with a variety of different mental illness or experiences and part of helping is making sure that they are safe and healthy. Hospitilization is a sign that those people do not feel safe nor healthy and have gotten to a life threatening point in their mental health journey. It is crucial for the mental health system to help all of those people because they are in danger. However, if the systems in place to help them are not effective, then the patients are still in danger and will not have anyone there to make sure they are taken care of.\n",
    "\n",
    "Readmission to  inpatient care is a sign of a failing system or at least a system that can be improved. As Nawaf Madi et. al. write about unexpected readmissions to hospital care, \"they may reflect on the system of mental healthcare as a whole,\" as seen with how \"hospital readmission rates have been linked to the adequacy of discharge planning and transi-tional services...\"(). Though there are other factors at play with readmission rates such as the disorders the patients are faced with, their location, and their social connections outside of the public system, the system itself can be given some of the blame(). And because the system can be changed on a statewide or national level, it is important to make it as effective as possible and part of process involved in improving system is identifying whether the system is working in the first place.\n",
    "\n",
    "file:///C:/Users/manas/Downloads/HQ_vol10_no2_Madi.pdf (emphasizes the importance of studying readmission rates)\n",
    "\n",
    "Research Questions:\n",
    "\n",
    "Are mental health initiatives effective in reducing readmission rates?\n",
    "Can we see if there is a significant change in readmission rates between the beginning of the dataset and the end?\n",
    "Subquestions:\n",
    "Can we see if there is a significant change in readmission rates between the beginning of the dataset and the end?\n",
    "Are readmission rates important in evaluating our health care systems?\n",
    "\n",
    "\n",
    "https://onlinelibrary.wiley.com/doi/epdf/10.1046/j.1440-172X.1998.00084.x (describes the negative effects of readmission, maybe use above)\n",
    "https://link.springer.com/content/pdf/10.1007/s00127-006-0063-1.pdf (really important study, essentially a basis for the statistical analysis)\n",
    "\n",
    "The Dataset:\n",
    "\n",
    "I will be using the following dataset: https://catalog.data.gov/dataset/bho-mh-readmission-2010-2014. This data details the readmissions to inpatient care within 30-90 days of the previous stay in New York over 2010 to 2014 as provided by the Behavioral Health Organization (BHO).\n",
    "\n",
    "The main purpose for this dataset as provided by the BHO is to measure the effect of the mental health services being given in New York during the onset of the first phase of a BHO initiative which had ended in 2015 or the year after this data's initial collection. This means the entire dataset took place during a specific phase of a statewide mental health initiative and can help measure the effect the BHO initiative had on the readmission rates. "
   ]
  },
  {
   "cell_type": "markdown",
   "metadata": {},
   "source": [
    "The Statistical Analysis:\n"
   ]
  },
  {
   "cell_type": "code",
   "execution_count": 11,
   "metadata": {},
   "outputs": [],
   "source": [
    "import pandas as pd\n",
    "import seaborn as sns\n",
    "import matplotlib.pyplot as plt\n",
    "from scipy import stats\n",
    "#need to do pip install pymannkendall\n",
    "import pymannkendall as mk\n"
   ]
  },
  {
   "cell_type": "code",
   "execution_count": 2,
   "metadata": {},
   "outputs": [
    {
     "data": {
      "text/html": [
       "<div>\n",
       "<style scoped>\n",
       "    .dataframe tbody tr th:only-of-type {\n",
       "        vertical-align: middle;\n",
       "    }\n",
       "\n",
       "    .dataframe tbody tr th {\n",
       "        vertical-align: top;\n",
       "    }\n",
       "\n",
       "    .dataframe thead th {\n",
       "        text-align: right;\n",
       "    }\n",
       "</style>\n",
       "<table border=\"1\" class=\"dataframe\">\n",
       "  <thead>\n",
       "    <tr style=\"text-align: right;\">\n",
       "      <th></th>\n",
       "      <th>Row Created Date Time</th>\n",
       "      <th>Metric ID</th>\n",
       "      <th>Description of Metric</th>\n",
       "      <th>Indicator Domain Group</th>\n",
       "      <th>OMH Region</th>\n",
       "      <th>Age Group</th>\n",
       "      <th>Numerator</th>\n",
       "      <th>Denominator</th>\n",
       "      <th>Rate</th>\n",
       "      <th>Year</th>\n",
       "      <th>Quarter</th>\n",
       "      <th>Year to Date Numerator</th>\n",
       "      <th>Year to Date Denominator</th>\n",
       "      <th>Year to Date Rate</th>\n",
       "    </tr>\n",
       "  </thead>\n",
       "  <tbody>\n",
       "    <tr>\n",
       "      <th>0</th>\n",
       "      <td>07/17/2015 08:58:25 AM</td>\n",
       "      <td>7</td>\n",
       "      <td>Rate of Readmission to Inpatient MH Treatment ...</td>\n",
       "      <td>MH Readmission</td>\n",
       "      <td>06-Statewide</td>\n",
       "      <td>Adult</td>\n",
       "      <td>2028</td>\n",
       "      <td>10045</td>\n",
       "      <td>20.2</td>\n",
       "      <td>2011</td>\n",
       "      <td>Q2</td>\n",
       "      <td>3847</td>\n",
       "      <td>19795</td>\n",
       "      <td>19.4</td>\n",
       "    </tr>\n",
       "    <tr>\n",
       "      <th>1</th>\n",
       "      <td>07/17/2015 08:58:25 AM</td>\n",
       "      <td>5</td>\n",
       "      <td>Rate of Readmission to Inpatient MH Treatment ...</td>\n",
       "      <td>MH Readmission</td>\n",
       "      <td>02-Central NY</td>\n",
       "      <td>Adult</td>\n",
       "      <td>166</td>\n",
       "      <td>816</td>\n",
       "      <td>20.3</td>\n",
       "      <td>2012</td>\n",
       "      <td>Q3</td>\n",
       "      <td>473</td>\n",
       "      <td>2377</td>\n",
       "      <td>19.9</td>\n",
       "    </tr>\n",
       "    <tr>\n",
       "      <th>2</th>\n",
       "      <td>07/17/2015 08:58:25 AM</td>\n",
       "      <td>6</td>\n",
       "      <td>Rate of Readmission to Inpatient MH Treatment ...</td>\n",
       "      <td>MH Readmission</td>\n",
       "      <td>05-Long Island</td>\n",
       "      <td>Adult</td>\n",
       "      <td>198</td>\n",
       "      <td>591</td>\n",
       "      <td>33.5</td>\n",
       "      <td>2012</td>\n",
       "      <td>Q4</td>\n",
       "      <td>866</td>\n",
       "      <td>2574</td>\n",
       "      <td>33.6</td>\n",
       "    </tr>\n",
       "    <tr>\n",
       "      <th>3</th>\n",
       "      <td>07/17/2015 08:58:25 AM</td>\n",
       "      <td>6</td>\n",
       "      <td>Rate of Readmission to Inpatient MH Treatment ...</td>\n",
       "      <td>MH Readmission</td>\n",
       "      <td>02-Central NY</td>\n",
       "      <td>Youth</td>\n",
       "      <td>79</td>\n",
       "      <td>370</td>\n",
       "      <td>21.4</td>\n",
       "      <td>2012</td>\n",
       "      <td>Q1</td>\n",
       "      <td>79</td>\n",
       "      <td>370</td>\n",
       "      <td>21.4</td>\n",
       "    </tr>\n",
       "    <tr>\n",
       "      <th>4</th>\n",
       "      <td>07/17/2015 08:58:25 AM</td>\n",
       "      <td>5</td>\n",
       "      <td>Rate of Readmission to Inpatient MH Treatment ...</td>\n",
       "      <td>MH Readmission</td>\n",
       "      <td>05-Long Island</td>\n",
       "      <td>Youth</td>\n",
       "      <td>54</td>\n",
       "      <td>323</td>\n",
       "      <td>16.7</td>\n",
       "      <td>2012</td>\n",
       "      <td>Q1</td>\n",
       "      <td>54</td>\n",
       "      <td>323</td>\n",
       "      <td>16.7</td>\n",
       "    </tr>\n",
       "  </tbody>\n",
       "</table>\n",
       "</div>"
      ],
      "text/plain": [
       "    Row Created Date Time  Metric ID  \\\n",
       "0  07/17/2015 08:58:25 AM          7   \n",
       "1  07/17/2015 08:58:25 AM          5   \n",
       "2  07/17/2015 08:58:25 AM          6   \n",
       "3  07/17/2015 08:58:25 AM          6   \n",
       "4  07/17/2015 08:58:25 AM          5   \n",
       "\n",
       "                               Description of Metric Indicator Domain Group  \\\n",
       "0  Rate of Readmission to Inpatient MH Treatment ...         MH Readmission   \n",
       "1  Rate of Readmission to Inpatient MH Treatment ...         MH Readmission   \n",
       "2  Rate of Readmission to Inpatient MH Treatment ...         MH Readmission   \n",
       "3  Rate of Readmission to Inpatient MH Treatment ...         MH Readmission   \n",
       "4  Rate of Readmission to Inpatient MH Treatment ...         MH Readmission   \n",
       "\n",
       "       OMH Region Age Group  Numerator  Denominator  Rate  Year Quarter  \\\n",
       "0    06-Statewide     Adult       2028        10045  20.2  2011      Q2   \n",
       "1   02-Central NY     Adult        166          816  20.3  2012      Q3   \n",
       "2  05-Long Island     Adult        198          591  33.5  2012      Q4   \n",
       "3   02-Central NY     Youth         79          370  21.4  2012      Q1   \n",
       "4  05-Long Island     Youth         54          323  16.7  2012      Q1   \n",
       "\n",
       "   Year to Date Numerator  Year to Date Denominator  Year to Date Rate  \n",
       "0                    3847                     19795               19.4  \n",
       "1                     473                      2377               19.9  \n",
       "2                     866                      2574               33.6  \n",
       "3                      79                       370               21.4  \n",
       "4                      54                       323               16.7  "
      ]
     },
     "execution_count": 2,
     "metadata": {},
     "output_type": "execute_result"
    }
   ],
   "source": [
    "#Import dataset\n",
    "BHOdf = pd.read_csv('https://data.ny.gov/api/views/inhb-jgj2/rows.csv?accessType=DOWNLOAD')\n",
    "BHOdf.head(5)"
   ]
  },
  {
   "cell_type": "code",
   "execution_count": 4,
   "metadata": {},
   "outputs": [
    {
     "data": {
      "text/html": [
       "<div>\n",
       "<style scoped>\n",
       "    .dataframe tbody tr th:only-of-type {\n",
       "        vertical-align: middle;\n",
       "    }\n",
       "\n",
       "    .dataframe tbody tr th {\n",
       "        vertical-align: top;\n",
       "    }\n",
       "\n",
       "    .dataframe thead th {\n",
       "        text-align: right;\n",
       "    }\n",
       "</style>\n",
       "<table border=\"1\" class=\"dataframe\">\n",
       "  <thead>\n",
       "    <tr style=\"text-align: right;\">\n",
       "      <th></th>\n",
       "      <th>Metric ID</th>\n",
       "      <th>Numerator</th>\n",
       "      <th>Denominator</th>\n",
       "      <th>Rate</th>\n",
       "      <th>Year to Date Numerator</th>\n",
       "      <th>Year to Date Denominator</th>\n",
       "      <th>Year to Date Rate</th>\n",
       "    </tr>\n",
       "    <tr>\n",
       "      <th>Year</th>\n",
       "      <th></th>\n",
       "      <th></th>\n",
       "      <th></th>\n",
       "      <th></th>\n",
       "      <th></th>\n",
       "      <th></th>\n",
       "      <th></th>\n",
       "    </tr>\n",
       "  </thead>\n",
       "  <tbody>\n",
       "    <tr>\n",
       "      <th>2010</th>\n",
       "      <td>6.0</td>\n",
       "      <td>448.944444</td>\n",
       "      <td>1891.500000</td>\n",
       "      <td>20.638889</td>\n",
       "      <td>1863.500000</td>\n",
       "      <td>7651.666667</td>\n",
       "      <td>21.413889</td>\n",
       "    </tr>\n",
       "    <tr>\n",
       "      <th>2011</th>\n",
       "      <td>6.0</td>\n",
       "      <td>470.805556</td>\n",
       "      <td>2010.236111</td>\n",
       "      <td>20.474306</td>\n",
       "      <td>1187.430556</td>\n",
       "      <td>5085.333333</td>\n",
       "      <td>20.565972</td>\n",
       "    </tr>\n",
       "    <tr>\n",
       "      <th>2012</th>\n",
       "      <td>6.0</td>\n",
       "      <td>420.541667</td>\n",
       "      <td>1771.958333</td>\n",
       "      <td>21.043750</td>\n",
       "      <td>1068.236111</td>\n",
       "      <td>4471.430556</td>\n",
       "      <td>21.286111</td>\n",
       "    </tr>\n",
       "    <tr>\n",
       "      <th>2013</th>\n",
       "      <td>6.0</td>\n",
       "      <td>826.722222</td>\n",
       "      <td>3419.111111</td>\n",
       "      <td>20.662500</td>\n",
       "      <td>1245.055556</td>\n",
       "      <td>5133.194444</td>\n",
       "      <td>20.758333</td>\n",
       "    </tr>\n",
       "    <tr>\n",
       "      <th>2014</th>\n",
       "      <td>6.0</td>\n",
       "      <td>860.305556</td>\n",
       "      <td>3740.583333</td>\n",
       "      <td>19.802778</td>\n",
       "      <td>1292.694444</td>\n",
       "      <td>5618.138889</td>\n",
       "      <td>19.727778</td>\n",
       "    </tr>\n",
       "  </tbody>\n",
       "</table>\n",
       "</div>"
      ],
      "text/plain": [
       "      Metric ID   Numerator  Denominator       Rate  Year to Date Numerator  \\\n",
       "Year                                                                          \n",
       "2010        6.0  448.944444  1891.500000  20.638889             1863.500000   \n",
       "2011        6.0  470.805556  2010.236111  20.474306             1187.430556   \n",
       "2012        6.0  420.541667  1771.958333  21.043750             1068.236111   \n",
       "2013        6.0  826.722222  3419.111111  20.662500             1245.055556   \n",
       "2014        6.0  860.305556  3740.583333  19.802778             1292.694444   \n",
       "\n",
       "      Year to Date Denominator  Year to Date Rate  \n",
       "Year                                               \n",
       "2010               7651.666667          21.413889  \n",
       "2011               5085.333333          20.565972  \n",
       "2012               4471.430556          21.286111  \n",
       "2013               5133.194444          20.758333  \n",
       "2014               5618.138889          19.727778  "
      ]
     },
     "execution_count": 4,
     "metadata": {},
     "output_type": "execute_result"
    }
   ],
   "source": [
    "#Create a dataset with the mean values (including readmission rates) for each year\n",
    "BHOmean = BHOdf.groupby(BHOdf['Year']).mean()\n",
    "BHOmean"
   ]
  },
  {
   "cell_type": "code",
   "execution_count": 17,
   "metadata": {},
   "outputs": [
    {
     "name": "stdout",
     "output_type": "stream",
     "text": [
      "Mann_Kendall_Test(trend='no trend', h=False, p=0.80649594050734, z=-0.2449489742783178, Tau=-0.2, s=-2.0, var_s=16.666666666666668, slope=-0.18680555555556433, intercept=21.01250000000002)\n"
     ]
    }
   ],
   "source": [
    "#Trend analysis: Is there a trend within the data?\n",
    "#Using pymannkendall\n",
    "trend = mk.original_test(BHOmean['Rate'])\n",
    "print(trend)"
   ]
  },
  {
   "cell_type": "code",
   "execution_count": 9,
   "metadata": {},
   "outputs": [
    {
     "name": "stdout",
     "output_type": "stream",
     "text": [
      "Do not reject the null hypothesis, the two means are not significantly different.\n"
     ]
    }
   ],
   "source": [
    "#Conducting an independent t-test for the proportions in the first year and the last year\n",
    "#Creating two datasets for the first year and the final year\n",
    "dfStart = BHOdf[BHOdf['Year']==min(BHOdf['Year'])]\n",
    "dfEnd = BHOdf[BHOdf['Year']==max(BHOdf['Year'])]\n",
    "#Null hypothesis: first year mean - final year mean= 0\n",
    "#Alternative hypothesis: first year mean - final year mean does not equal 0\n",
    "tstatistic, pvalue = stats.ttest_ind(dfStart['Rate']/100,dfEnd['Rate']/100,equal_var=False)\n",
    "#95% CI, alpha = 0.05\n",
    "if(pvalue<0.05):\n",
    "    print(\"Reject null hypothesis, there is a statistically significant difference between the two means.\")\n",
    "if(0.05<pvalue):\n",
    "    print(\"Do not reject the null hypothesis, the two means are not significantly different.\")"
   ]
  },
  {
   "cell_type": "code",
   "execution_count": 23,
   "metadata": {},
   "outputs": [
    {
     "data": {
      "image/png": "[encoded data removed]",
      "text/plain": [
       "<Figure size 432x288 with 1 Axes>"
      ]
     },
     "metadata": {
      "needs_background": "light"
     },
     "output_type": "display_data"
    }
   ],
   "source": [
    "#Visualization\n",
    "#Line graph for the rate over time\n",
    "year = BHOmean.index\n",
    "plt.plot(year,BHOmean['Rate'])\n",
    "plt.title(\"Rate of Readmission Over Time\")\n",
    "plt.xlabel(\"Year\")\n",
    "plt.ylabel(\"Rate of Readmission (%)\")\n",
    "plt.ylim((0,25.0))\n",
    "plt.show()"
   ]
  },
  {
   "cell_type": "code",
   "execution_count": 24,
   "metadata": {},
   "outputs": [
    {
     "data": {
      "image/png": "[encoded data removed]",
      "text/plain": [
       "<Figure size 432x288 with 1 Axes>"
      ]
     },
     "metadata": {
      "needs_background": "light"
     },
     "output_type": "display_data"
    }
   ],
   "source": [
    "#Bar graph for mean rate per year\n",
    "plt.bar(year,BHOmean['Rate'])\n",
    "plt.title(\"Rate of Readmission Categorized By Year\")\n",
    "plt.xlabel(\"Year\")\n",
    "plt.ylabel(\"Rate of Readmission (%)\")\n",
    "plt.ylim((0,25.0))\n",
    "plt.show()"
   ]
  },
  {
   "cell_type": "markdown",
   "metadata": {},
   "source": [
    "Results and Discussion:\n",
    "\n",
    "There is no significant difference between the mean rates of the beginning of the dataset and the end. There also was no trend that was detected in the data. This could be an answer to the question, in that, the program appears to have had no effect on the rates since there is no difference in the values from one year to another. That means that whichever factors may have influenced the readmission rates, including the BHO initiative, did not appear to have an effect on the readmission rates.\n",
    "\n",
    "Ethical Consequences:\n",
    "\n",
    "When dealing with data about mental illness, specifically, data that describes actions taken by someone who is vulnerable, there are many ethical consequences. By reducing the readmission and healing process to numbers, the complexity and nuance involved in recovery are lost. This loss can lead those who have gotten readmitted or seeked out the public programs available to help with their mental illness to see this data as reduction of their journey, which could have them feel disappointed in their progress or cause them to lose faith in themselves or the public systems. By showing that the first phase of the initiative was not very effective, this could also lead to public programs losing funding for future initiatives which may have been more effective. This may even create stigma against public mental illness recovery programs in general, with people assuming that they are not worth the effort to maintain or invest in which could prevent new programs from starting as well."
   ]
  },
  {
   "cell_type": "markdown",
   "metadata": {},
   "source": [
    "### Citations:\n"
   ]
  },
  {
   "cell_type": "code",
   "execution_count": null,
   "metadata": {},
   "outputs": [],
   "source": []
  }
 ],
 "metadata": {
  "kernelspec": {
   "display_name": "Python 3",
   "language": "python",
   "name": "python3"
  },
  "language_info": {
   "codemirror_mode": {
    "name": "ipython",
    "version": 3
   },
   "file_extension": ".py",
   "mimetype": "text/x-python",
   "name": "python",
   "nbconvert_exporter": "python",
   "pygments_lexer": "ipython3",
   "version": "3.8.5"
  }
 },
 "nbformat": 4,
 "nbformat_minor": 4
}

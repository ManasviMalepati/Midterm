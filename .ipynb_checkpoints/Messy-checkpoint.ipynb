{
 "cells": [
  {
   "cell_type": "code",
   "execution_count": 137,
   "metadata": {},
   "outputs": [
    {
     "ename": "SyntaxError",
     "evalue": "invalid syntax (<ipython-input-137-094ec4405804>, line 9)",
     "output_type": "error",
     "traceback": [
      "\u001b[1;36m  File \u001b[1;32m\"<ipython-input-137-094ec4405804>\"\u001b[1;36m, line \u001b[1;32m9\u001b[0m\n\u001b[1;33m    pip install pymannkendall\u001b[0m\n\u001b[1;37m        ^\u001b[0m\n\u001b[1;31mSyntaxError\u001b[0m\u001b[1;31m:\u001b[0m invalid syntax\n"
     ]
    }
   ],
   "source": [
    "#importing csv of BHO MH Readmission: 2010-2014\n",
    "import pandas as pd\n",
    "import numpy as np\n",
    "import seaborn as sns\n",
    "import matplotlib.pyplot as plt\n",
    "np.random.seed(0)\n",
    "from scipy import stats\n",
    "from statsmodels.stats.anova import AnovaRM\n",
    "import pymannkendall as mk\n",
    "\n",
    "df = pd.read_csv('https://data.ny.gov/api/views/inhb-jgj2/rows.csv?accessType=DOWNLOAD')\n",
    "df\n",
    "#purpose is to measure whether readmission rates have reduced over time\n",
    "#Visualizations: line graph (of means), bar graph (of means) (to measure per year), or strip plot\n",
    "#Measuring significant difference over time:\n",
    "#Trend analysis: https://www.statisticshowto.com/trend-analysis/\n",
    "#Mann-Kendall Trend test\n",
    "sns.stripplot(x='Year', y = 'Rate', data = df, orient = 'v', size=3 )\n",
    "plt.title('')\n",
    "plt.xlabel('')\n",
    "plt.ylabel('')\n",
    "plt.show()\n",
    "#mean of each year\n",
    "dfMean = df.groupby(['Year']).mean()\n",
    "year = dfMean.index\n",
    "plt.plot(year,dfMean['Rate'])\n",
    "plt.ylim((0,25.0))\n",
    "plt.show()\n",
    "plt.bar(year,dfMean['Rate'])\n",
    "plt.ylim((0,25.0))\n",
    "plt.show()\n",
    "#Should find the statistical significance between two rates-ttest\n",
    "#df.set_index(\"Year\",inplace = True)\n",
    "dfRate = df.groupby(df['Year'])\n",
    "dfRate.head(10)\n",
    "#Unequal sample size, won't work\n",
    "#AnovaRM(df, 'Rate', 'Year', within=['Rate'], aggregate_func='mean').fit()\n",
    "dfStart = df[df['Year']==min(year)]\n",
    "dfEnd = df[df['Year']==max(year)]\n",
    "tstatistic, pvalue = stats.ttest_ind(dfStart['Rate']/100,dfEnd['Rate']/100)\n",
    "if(0.05<pvalue):\n",
    "    print()"
   ]
  },
  {
   "cell_type": "code",
   "execution_count": 136,
   "metadata": {},
   "outputs": [
    {
     "data": {
      "text/plain": [
       "Mann_Kendall_Test(trend='no trend', h=False, p=0.80649594050734, z=-0.2449489742783178, Tau=-0.2, s=-2.0, var_s=16.666666666666668, slope=-0.18680555555556433, intercept=21.01250000000002)"
      ]
     },
     "execution_count": 136,
     "metadata": {},
     "output_type": "execute_result"
    }
   ],
   "source": [
    "df.head(20)\n",
    "mk.original_test(dfMean['Rate'])\n"
   ]
  },
  {
   "cell_type": "code",
   "execution_count": null,
   "metadata": {},
   "outputs": [],
   "source": []
  }
 ],
 "metadata": {
  "kernelspec": {
   "display_name": "Python 3",
   "language": "python",
   "name": "python3"
  },
  "language_info": {
   "codemirror_mode": {
    "name": "ipython",
    "version": 3
   },
   "file_extension": ".py",
   "mimetype": "text/x-python",
   "name": "python",
   "nbconvert_exporter": "python",
   "pygments_lexer": "ipython3",
   "version": "3.8.5"
  }
 },
 "nbformat": 4,
 "nbformat_minor": 4
}
